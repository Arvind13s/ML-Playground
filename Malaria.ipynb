import tensorflow as tf
from tensorflow import keras
from tensorflow.keras import Sequential
from tensorflow.keras.layers import Flatten, Dense, Conv2D, MaxPool2D, Dropout
from tensorflow.keras.preprocessing.image import ImageDataGenerator
print(tf.__version__)

import numpy as np
import matplotlib.pyplot as plt
import pandas as pd

!git clone https://github.com/laxmimerit/Malaria-Classification-Using-CNN.git

img_width = 64
img_height = 64

datagen = ImageDataGenerator(rescale=1/255.0, validation_split=0.2)

train_data_generator = datagen.flow_from_directory(directory='/content/Malaria-Classification-Using-CNN' ,
                                              target_size = (img_width, img_height),
                                                   class_mode = 'binary' ,
                                                   batch_size = 16,
                                                   subset = 'training'
                                                   )

validation_data_generator = datagen.flow_from_directory(directory='/content/Malaria-Classification-Using-CNN' ,
                                              target_size = (img_width, img_height),
                                                   class_mode = 'binary' ,
                                                   batch_size = 16,
                                                   subset = 'validation'
                                                   )

train_data_generator.labels

CNN Model building:

model = Sequential()

model.add(Conv2D(16, (3,3), input_shape = (img_width, img_height, 3), activation='relu'))
model.add(MaxPool2D(2,2))
model.add(Dropout(0.2))

model.add(Conv2D(32, (3,3), activation='relu'))
model.add(MaxPool2D(2,2))
model.add(Dropout(0.3))

model.add(Flatten())
model.add(Dense(256, activation='relu'))
model.add(Dropout(0.4))

model.add(Dense(1, activation='sigmoid'))

model.summary()

model.compile(optimizer='adam', loss='binary_crossentropy',metrics = ['accuracy'])

history = model.fit_generator(generator=train_data_generator,
                              steps_per_epoch = len(train_data_generator),
                              epochs = 5,
                              validation_data = validation_data_generator,
                              validation_steps = len(validation_data_generator))

history.history

def plot_learningCurve(history, epoch):

  epoch_range = range(1, epoch+1)
  plt.plot(epoch_range, history.history['accuracy'])
  plt.plot(epoch_range, history.history['val_accuracy'])
  plt.title('Model accuracy')
  plt.ylabel('Accuracy')
  plt.xlabel('Epoch')
  plt.legend(['Train', 'Val'], loc='upper left')
  plt.show()

  plt.plot(epoch_range, history.history['loss'])
  plt.plot(epoch_range, history.history['val_loss'])
  plt.title('Model loss')
  plt.ylabel('Loss')
  plt.xlabel('Epoch')
  plt.legend(['Train', 'Val'], loc='upper left')
  plt.show()

plot_learningCurve(history, 5)


